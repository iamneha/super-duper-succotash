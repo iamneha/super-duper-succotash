{
 "cells": [
  {
   "cell_type": "code",
   "execution_count": null,
   "metadata": {},
   "outputs": [],
   "source": [
    "\"\"\"\n",
    "Comprehension allow sequences to build from another sequences.\n",
    "Three type of comprehensions:\n",
    "1. List\n",
    "2. Set\n",
    "3. Dictionary\n",
    "\"\"\""
   ]
  },
  {
   "cell_type": "code",
   "execution_count": 1,
   "metadata": {},
   "outputs": [
    {
     "name": "stdout",
     "output_type": "stream",
     "text": [
      "[0, 1, 4, 9, 16, 25, 36, 49, 64, 81]\n"
     ]
    }
   ],
   "source": [
    "# List\n",
    "square = []\n",
    "for s in range(10):\n",
    "    square.append(s**2)\n",
    "    \n",
    "print(square)"
   ]
  },
  {
   "cell_type": "code",
   "execution_count": 3,
   "metadata": {},
   "outputs": [
    {
     "name": "stdout",
     "output_type": "stream",
     "text": [
      "[0, 1, 4, 9, 16, 25, 36, 49, 64, 81]\n"
     ]
    }
   ],
   "source": [
    "# List Comprehension \n",
    "square = [s**2 for s in range(10)]\n",
    "print(square)"
   ]
  },
  {
   "cell_type": "code",
   "execution_count": 4,
   "metadata": {},
   "outputs": [
    {
     "name": "stdout",
     "output_type": "stream",
     "text": [
      "{16, 1, 9, 25}\n"
     ]
    }
   ],
   "source": [
    "# Set\n",
    "_list = [1, 3, 3, 4, 4, 5]\n",
    "square = []\n",
    "for s in _list:\n",
    "    square.append(s**2)\n",
    "    \n",
    "square = set(square)\n",
    "print(square)"
   ]
  },
  {
   "cell_type": "code",
   "execution_count": 5,
   "metadata": {},
   "outputs": [
    {
     "name": "stdout",
     "output_type": "stream",
     "text": [
      "{16, 1, 9, 25}\n"
     ]
    }
   ],
   "source": [
    "# Set comprehension\n",
    "_list = [1, 3, 3, 4, 4, 5]\n",
    "square = {s**2 for s in _list}\n",
    "print(square)"
   ]
  },
  {
   "cell_type": "code",
   "execution_count": 9,
   "metadata": {},
   "outputs": [
    {
     "name": "stdout",
     "output_type": "stream",
     "text": [
      "{1: 'blue', 2: 'orange', 3: 'pink', 4: 'red', 5: 'yellow'}\n"
     ]
    }
   ],
   "source": [
    "# Dictionary\n",
    "fruits = {'blue': 1, 'orange': 2, 'pink': 3, 'red': 4, 'yellow': 5}\n",
    "new_fruit_dict = {}\n",
    "\n",
    "for key, value in fruits.items():\n",
    "    new_fruit_dict[value] = key\n",
    "\n",
    "print(new_fruit_dict)"
   ]
  },
  {
   "cell_type": "code",
   "execution_count": 11,
   "metadata": {},
   "outputs": [
    {
     "name": "stdout",
     "output_type": "stream",
     "text": [
      "{1: 'blue', 2: 'orange', 3: 'pink', 4: 'red', 5: 'yellow'}\n"
     ]
    }
   ],
   "source": [
    "# Dictionary comprehension\n",
    "fruits = {'blue': 1, 'orange': 2, 'pink': 3, 'red': 4, 'yellow': 5}\n",
    "\n",
    "new_fruit_dict = {v: k for k, v in fruits.items()}\n",
    "print(new_fruit_dict)"
   ]
  },
  {
   "cell_type": "code",
   "execution_count": null,
   "metadata": {},
   "outputs": [],
   "source": []
  }
 ],
 "metadata": {
  "kernelspec": {
   "display_name": "Python 3",
   "language": "python",
   "name": "python3"
  },
  "language_info": {
   "codemirror_mode": {
    "name": "ipython",
    "version": 3
   },
   "file_extension": ".py",
   "mimetype": "text/x-python",
   "name": "python",
   "nbconvert_exporter": "python",
   "pygments_lexer": "ipython3",
   "version": "3.6.7"
  }
 },
 "nbformat": 4,
 "nbformat_minor": 2
}
