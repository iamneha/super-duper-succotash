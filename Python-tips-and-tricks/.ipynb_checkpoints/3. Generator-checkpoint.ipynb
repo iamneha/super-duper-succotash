{
 "cells": [
  {
   "cell_type": "code",
   "execution_count": null,
   "metadata": {},
   "outputs": [],
   "source": [
    "\"\"\"\n",
    "Generator\n",
    "\n",
    "First lets understand iterators.\n",
    "There are three parts:\n",
    "1.Iterable\n",
    "2.Iterator\n",
    "3.Iteration\n",
    "\n",
    "\n",
    "1. Iterable\n",
    "* anything that can be looped over (i.e. you can loop over a string or list) or\n",
    "* ex: for-loop---->  for x in iterable: ... or\n",
    "* any object in Python which has an __iter__ or a __getitem__ method defined which returns an iterator\n",
    "  or can take indexes\n",
    "  \n",
    "2. Iterator\n",
    "* It is an object that defines how to actually do the iteration, specifically what is the next element.\n",
    "  That's why it must have next() method.\n",
    "\n",
    "3. Iteration\n",
    "* Taking each item of something, one after another.\n",
    "* Whenever you use a for loop, or map, or a list comprehension, etc. you are going through the process of iteration.\n",
    "\n",
    "\n",
    "Generator are iterable but you can only iterate over them once.\n",
    "* They generate value on fly instead of storing it into memory.\n",
    "* They \"yield\" the value instead of returning.\n",
    "* They are much more memory efficient when dealing with large datasets\n",
    "\"\"\"\n"
   ]
  },
  {
   "cell_type": "code",
   "execution_count": 14,
   "metadata": {},
   "outputs": [],
   "source": [
    "import time\n",
    "\n",
    "\n",
    "def timing_function(some_function):\n",
    "    \"\"\"\n",
    "    Outputs the time a function takes\n",
    "    to execute.\n",
    "    \"\"\"\n",
    "\n",
    "    def wrapper(*args, **kwargs):\n",
    "        t1 = time.time()\n",
    "        some_function(*args, **kwargs)\n",
    "        t2 = time.time()\n",
    "        print(\"Time it took to run the function: \" + str((t2 - t1)) + \"\\n\")\n",
    "    return wrapper"
   ]
  },
  {
   "cell_type": "code",
   "execution_count": 21,
   "metadata": {},
   "outputs": [
    {
     "name": "stdout",
     "output_type": "stream",
     "text": [
      "Time it took to run the function: 0.7667253017425537\n",
      "\n"
     ]
    }
   ],
   "source": [
    "@timing_function                   \n",
    "def iteration(n):\n",
    "    result = []\n",
    "    for i in range(n):         \n",
    "        result.append(i)\n",
    "    return result\n",
    "\n",
    "n = 10000000\n",
    "iteration(n)"
   ]
  },
  {
   "cell_type": "code",
   "execution_count": 22,
   "metadata": {},
   "outputs": [
    {
     "name": "stdout",
     "output_type": "stream",
     "text": [
      "Time it took to run the function: 1.3113021850585938e-05\n",
      "\n"
     ]
    }
   ],
   "source": [
    "@timing_function                   \n",
    "def generator(n):\n",
    "    for i in range(n):\n",
    "        yield i                      \n",
    "\n",
    "n = 10000000\n",
    "generator(n)"
   ]
  },
  {
   "cell_type": "code",
   "execution_count": null,
   "metadata": {},
   "outputs": [],
   "source": []
  }
 ],
 "metadata": {
  "kernelspec": {
   "display_name": "Python 3",
   "language": "python",
   "name": "python3"
  },
  "language_info": {
   "codemirror_mode": {
    "name": "ipython",
    "version": 3
   },
   "file_extension": ".py",
   "mimetype": "text/x-python",
   "name": "python",
   "nbconvert_exporter": "python",
   "pygments_lexer": "ipython3",
   "version": "3.6.7"
  }
 },
 "nbformat": 4,
 "nbformat_minor": 2
}
