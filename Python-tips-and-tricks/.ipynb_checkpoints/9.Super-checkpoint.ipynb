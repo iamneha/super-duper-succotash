{
 "cells": [
  {
   "cell_type": "code",
   "execution_count": null,
   "metadata": {},
   "outputs": [],
   "source": [
    "\"\"\"\n",
    "Super\n",
    "\n",
    "Dimond Problem \n",
    "     A\n",
    "   /   \\\n",
    "  B     C\n",
    "   \\   /\n",
    "     D\n",
    "\n",
    "\n",
    "* The reason we use super is so that child classes that may be using cooperative multiple inheritance will call the\n",
    "correct next parent class function.\n",
    "* The real benefit comes with multiple inheritance though.\n",
    "When using super, a single call will not only automatically call the method of all base types\n",
    "(in the correct inheritance order), but it will also make sure that each method is only called once.\n",
    "\"\"\""
   ]
  },
  {
   "cell_type": "code",
   "execution_count": 7,
   "metadata": {},
   "outputs": [
    {
     "name": "stdout",
     "output_type": "stream",
     "text": [
      "A\n",
      "B\n",
      "A\n",
      "C\n",
      "D\n"
     ]
    }
   ],
   "source": [
    "# Without super\n",
    "\n",
    "class A:\n",
    "    def __init__ (self):\n",
    "        print('A')\n",
    "\n",
    "class B(A):\n",
    "    def __init__ (self):\n",
    "        A.__init__(self)\n",
    "        print('B')\n",
    "\n",
    "class C(A):\n",
    "    def __init__ (self):\n",
    "        A.__init__(self)\n",
    "        print('C')\n",
    "\n",
    "class D(C, B):\n",
    "    def __init__ (self):\n",
    "        B.__init__(self)\n",
    "        C.__init__(self)\n",
    "        print('D')\n",
    "        \n",
    "d = D()"
   ]
  },
  {
   "cell_type": "code",
   "execution_count": 9,
   "metadata": {},
   "outputs": [
    {
     "name": "stdout",
     "output_type": "stream",
     "text": [
      "A\n",
      "B\n",
      "C\n",
      "D\n"
     ]
    }
   ],
   "source": [
    "# With Super\n",
    "class A:\n",
    "    def __init__ (self):\n",
    "        super().__init__()\n",
    "        print('A')\n",
    "\n",
    "class B(A):\n",
    "    def __init__ (self):\n",
    "        super().__init__()\n",
    "        print('B')\n",
    "\n",
    "class C(A):\n",
    "    def __init__ (self):\n",
    "        super().__init__()\n",
    "        print('C')\n",
    "\n",
    "class D(C, B):\n",
    "    def __init__ (self):\n",
    "        super().__init__()\n",
    "        print('D')\n",
    "        \n",
    "d1 = D()"
   ]
  },
  {
   "cell_type": "code",
   "execution_count": null,
   "metadata": {},
   "outputs": [],
   "source": [
    "d1.__mr"
   ]
  }
 ],
 "metadata": {
  "kernelspec": {
   "display_name": "Python 3",
   "language": "python",
   "name": "python3"
  },
  "language_info": {
   "codemirror_mode": {
    "name": "ipython",
    "version": 3
   },
   "file_extension": ".py",
   "mimetype": "text/x-python",
   "name": "python",
   "nbconvert_exporter": "python",
   "pygments_lexer": "ipython3",
   "version": "3.6.7"
  }
 },
 "nbformat": 4,
 "nbformat_minor": 2
}
