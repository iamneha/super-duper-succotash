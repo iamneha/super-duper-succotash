{
 "cells": [
  {
   "cell_type": "code",
   "execution_count": 3,
   "metadata": {
    "collapsed": true
   },
   "outputs": [
    {
     "data": {
      "text/plain": [
       "'\\nDecorator:\\n\\nFunctions which modify the functionality of another function\\nCommon use of decorators:\\n  i) Authorization and logging\\n ii) Synchronization\\niii) Memoize and caching\\n\\n'"
      ]
     },
     "execution_count": 3,
     "metadata": {},
     "output_type": "execute_result"
    }
   ],
   "source": [
    "\"\"\"\n",
    "Decorator:\n",
    "\n",
    "Functions which modify the functionality of another function\n",
    "Common use of decorators:\n",
    "  i) Authorization and logging\n",
    " ii) Synchronization\n",
    "iii) Memoize and caching\n",
    "\n",
    "\"\"\""
   ]
  },
  {
   "cell_type": "code",
   "execution_count": 4,
   "metadata": {},
   "outputs": [
    {
     "name": "stdout",
     "output_type": "stream",
     "text": [
      "Printing from the PARENT function\n",
      "Printing from the SECOND CHILD function\n",
      "Printing from the FIRST CHILD function\n"
     ]
    }
   ],
   "source": [
    "# Inner function\n",
    "\n",
    "def parent():\n",
    "    print(\"Printing from the PARENT function\")\n",
    "\n",
    "    def first_child():\n",
    "        print(\"Printing from the FIRST CHILD function\")\n",
    "\n",
    "    def second_child():\n",
    "        print(\"Printing from the SECOND CHILD function\")\n",
    "\n",
    "    second_child()\n",
    "    first_child()\n",
    "\n",
    "parent()\n",
    "\n",
    "# You have no access to first_child and second_child method\n",
    "# The inner functions are not defined until the parent function is called.\n",
    "# They are locally scoped to parent(): they only exist inside the parent()"
   ]
  },
  {
   "cell_type": "code",
   "execution_count": 3,
   "metadata": {},
   "outputs": [],
   "source": [
    "# Returning Functions From Functions\n",
    "# Python also allows you to use functions as return values.\n",
    "# The following example returns one of the inner functions from the outer parent() function:\n",
    "\n",
    "def parent(num):\n",
    "    print(\"Printing from the PARENT function\")\n",
    "    def first_child():\n",
    "        return \"First Child\"\n",
    "\n",
    "    def second_child():\n",
    "        return \"Second Child\"\n",
    "\n",
    "    if num == 1:\n",
    "        return first_child\n",
    "    elif num == 2:\n",
    "        return second_child\n"
   ]
  },
  {
   "cell_type": "code",
   "execution_count": 4,
   "metadata": {
    "collapsed": true
   },
   "outputs": [
    {
     "name": "stdout",
     "output_type": "stream",
     "text": [
      "Printing from the PARENT function\n",
      "Printing from the PARENT function\n"
     ]
    }
   ],
   "source": [
    "first = parent(1)\n",
    "second = parent(2)"
   ]
  },
  {
   "cell_type": "code",
   "execution_count": 5,
   "metadata": {
    "collapsed": true
   },
   "outputs": [
    {
     "data": {
      "text/plain": [
       "<function __main__.parent.<locals>.first_child()>"
      ]
     },
     "execution_count": 5,
     "metadata": {},
     "output_type": "execute_result"
    }
   ],
   "source": [
    "# Returning first_child without the parentheses means you are returning reference to the function\n",
    "first"
   ]
  },
  {
   "cell_type": "code",
   "execution_count": 17,
   "metadata": {
    "collapsed": true
   },
   "outputs": [
    {
     "data": {
      "text/plain": [
       "<function __main__.parent.<locals>.second_child()>"
      ]
     },
     "execution_count": 17,
     "metadata": {},
     "output_type": "execute_result"
    }
   ],
   "source": [
    "second"
   ]
  },
  {
   "cell_type": "code",
   "execution_count": 18,
   "metadata": {
    "collapsed": true
   },
   "outputs": [
    {
     "data": {
      "text/plain": [
       "'First Child'"
      ]
     },
     "execution_count": 18,
     "metadata": {},
     "output_type": "execute_result"
    }
   ],
   "source": [
    "first()"
   ]
  },
  {
   "cell_type": "code",
   "execution_count": 19,
   "metadata": {
    "collapsed": true
   },
   "outputs": [
    {
     "data": {
      "text/plain": [
       "'Second Child'"
      ]
     },
     "execution_count": 19,
     "metadata": {},
     "output_type": "execute_result"
    }
   ],
   "source": [
    "second()"
   ]
  },
  {
   "cell_type": "code",
   "execution_count": 7,
   "metadata": {},
   "outputs": [],
   "source": [
    "# Simple example\n",
    "def do_twice(func):\n",
    "    def wrapper_do_twice(*args, **kwargs):\n",
    "        func(*args, **kwargs)\n",
    "        func(*args, **kwargs)\n",
    "    return wrapper_do_twice"
   ]
  },
  {
   "cell_type": "code",
   "execution_count": 8,
   "metadata": {},
   "outputs": [
    {
     "name": "stdout",
     "output_type": "stream",
     "text": [
      "Hello Pyladies\n",
      "Hello Pyladies\n"
     ]
    }
   ],
   "source": [
    "@do_twice\n",
    "def hello_pyladies():\n",
    "    print(\"Hello Pyladies\")\n",
    "    \n",
    "\n",
    "hello_pyladies()"
   ]
  },
  {
   "cell_type": "code",
   "execution_count": null,
   "metadata": {},
   "outputs": [],
   "source": []
  }
 ],
 "metadata": {
  "kernelspec": {
   "display_name": "Python 3",
   "language": "python",
   "name": "python3"
  },
  "language_info": {
   "codemirror_mode": {
    "name": "ipython",
    "version": 3
   },
   "file_extension": ".py",
   "mimetype": "text/x-python",
   "name": "python",
   "nbconvert_exporter": "python",
   "pygments_lexer": "ipython3",
   "version": "3.6.7"
  }
 },
 "nbformat": 4,
 "nbformat_minor": 2
}
