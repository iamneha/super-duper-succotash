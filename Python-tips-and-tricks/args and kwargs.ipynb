{
 "cells": [
  {
   "cell_type": "code",
   "execution_count": 1,
   "metadata": {},
   "outputs": [],
   "source": [
    "\"\"\"\n",
    "To pass variable number of arguments to function use *args and **kwargs\n",
    "1. *args (Non Keyword Arguments)\n",
    "2. **kwargs (Keyword Arguments)\n",
    "\n",
    "The single asterisk form (*args) is used to pass a non-keyworded, variable-length argument list,\n",
    "and the double asterisk form is used to pass a keyworded, variable-length argument list.\n",
    "\n",
    "\"\"\""
   ]
  },
  {
   "cell_type": "code",
   "execution_count": 11,
   "metadata": {},
   "outputs": [
    {
     "name": "stdout",
     "output_type": "stream",
     "text": [
      "Sum of given arguments is  26\n"
     ]
    }
   ],
   "source": [
    "def _sum(*args):\n",
    "    s = 0\n",
    "    for arg in args:\n",
    "        s = s + arg\n",
    "    print(\"Sum of given arguments is \", s)\n",
    "\n",
    "_sum(1, 2, 3, 5, 6, 9)"
   ]
  },
  {
   "cell_type": "code",
   "execution_count": 5,
   "metadata": {},
   "outputs": [
    {
     "name": "stdout",
     "output_type": "stream",
     "text": [
      "first value arg: Pyladies\n",
      "another arg through *args: Python 101\n",
      "another arg through *args: Bengaluru\n"
     ]
    }
   ],
   "source": [
    "def session(first_value, *args):\n",
    "    print(\"first value arg:\", first_value)\n",
    "    for arg in args:\n",
    "        print(\"another arg through *args:\", arg)\n",
    "\n",
    "session('Pyladies', 'Python 101', 'Bengaluru')"
   ]
  },
  {
   "cell_type": "code",
   "execution_count": 3,
   "metadata": {},
   "outputs": [
    {
     "name": "stdout",
     "output_type": "stream",
     "text": [
      "first value arg: Pyladies\n",
      "another arg through *argv: ['Python 101', 'Bengaluru']\n"
     ]
    }
   ],
   "source": [
    "session('Pyladies', ['Python 101', 'Bengaluru'])"
   ]
  },
  {
   "cell_type": "code",
   "execution_count": 7,
   "metadata": {},
   "outputs": [
    {
     "name": "stdout",
     "output_type": "stream",
     "text": [
      "{'key1': 10, 'key2': 'foo', 'key3': 'bar'}\n"
     ]
    }
   ],
   "source": [
    "# **kwargs: **kwargs handle named arguments in a function\n",
    "# double star allows us to pass through keyword arguments (and any number of them).\n",
    "\n",
    "def func_kwargs(**kwargs):\n",
    "    print(kwargs)\n",
    "\n",
    "func_kwargs(key1=10, key2='foo', key3='bar')"
   ]
  },
  {
   "cell_type": "code",
   "execution_count": 9,
   "metadata": {},
   "outputs": [
    {
     "name": "stdout",
     "output_type": "stream",
     "text": [
      "key1 - 10\n",
      "key2 - foo\n",
      "key3 - bar\n"
     ]
    }
   ],
   "source": [
    "def func_keyword_dict(**kwargs):\n",
    "    for key, value in kwargs.items():\n",
    "        print(key,\"-\",value)\n",
    "        \n",
    "func_keyword_dict(key1=10, key2='foo', key3='bar')"
   ]
  },
  {
   "cell_type": "code",
   "execution_count": 10,
   "metadata": {},
   "outputs": [],
   "source": [
    "# Common use case is making function decorator."
   ]
  },
  {
   "cell_type": "code",
   "execution_count": null,
   "metadata": {},
   "outputs": [],
   "source": []
  }
 ],
 "metadata": {
  "kernelspec": {
   "display_name": "Python 3",
   "language": "python",
   "name": "python3"
  },
  "language_info": {
   "codemirror_mode": {
    "name": "ipython",
    "version": 3
   },
   "file_extension": ".py",
   "mimetype": "text/x-python",
   "name": "python",
   "nbconvert_exporter": "python",
   "pygments_lexer": "ipython3",
   "version": "3.6.7"
  }
 },
 "nbformat": 4,
 "nbformat_minor": 2
}
