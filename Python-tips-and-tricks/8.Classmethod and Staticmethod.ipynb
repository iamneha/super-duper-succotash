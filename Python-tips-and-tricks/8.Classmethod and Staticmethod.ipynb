{
 "cells": [
  {
   "cell_type": "code",
   "execution_count": null,
   "metadata": {},
   "outputs": [],
   "source": [
    "\"\"\"\n",
    "Classmethod\n",
    "\n",
    "* Class method works with the class since its parameter is always the class itself.\n",
    "* Class methods take a cls parameter that points to the class—and not the object instance—when the method is called.\n",
    "* Classmethod can modify a class state that would apply across all the instances of the class.\n",
    "* We generally use class method to create factory methods. Factory methods return class object for different use cases.\n",
    "* we use @classmethod decorator to define class method\n",
    "\n",
    "Staticmethod\n",
    "* Static method knows nothing about the class and just deals with the parameters.\n",
    "* Static method cannot access and modify class state.\n",
    "* They are utility type methods that take some parameters and work upon those parameters.\n",
    "* we use @staticmethod decorator to define static method.\n",
    "\n",
    "\"\"\""
   ]
  },
  {
   "cell_type": "code",
   "execution_count": 3,
   "metadata": {},
   "outputs": [
    {
     "name": "stdout",
     "output_type": "stream",
     "text": [
      "Neha Yadav\n"
     ]
    }
   ],
   "source": [
    "# Class Method: Python unlike Java and C++ doesn't have constructor overloading.\n",
    "# And so to achieve this you could use classmethod\n",
    "\n",
    "class Person(object):\n",
    "\n",
    "    def __init__(self, first_name, last_name):\n",
    "        self.first_name = first_name\n",
    "        self.last_name = last_name\n",
    "        \n",
    "person = Person(\"Neha\", \"Yadav\")\n",
    "print(person.first_name, person.last_name)"
   ]
  },
  {
   "cell_type": "code",
   "execution_count": 5,
   "metadata": {},
   "outputs": [
    {
     "name": "stdout",
     "output_type": "stream",
     "text": [
      "Neha \n"
     ]
    }
   ],
   "source": [
    "# What if person has no last name\n",
    "\n",
    "class Person(object):\n",
    "\n",
    "    def __init__(self, first_name, last_name):\n",
    "        self.first_name = first_name\n",
    "        self.last_name = last_name\n",
    "\n",
    "    @classmethod\n",
    "    def get_first_name(cls, first_name):\n",
    "        return cls(first_name, \"\")\n",
    "    \n",
    "person2 = Person.get_first_name(\"Neha\")\n",
    "print(person2.first_name, person2.last_name)"
   ]
  },
  {
   "cell_type": "code",
   "execution_count": 6,
   "metadata": {},
   "outputs": [
    {
     "name": "stdout",
     "output_type": "stream",
     "text": [
      "True\n"
     ]
    }
   ],
   "source": [
    "# Static Method:: This is rather simple, it's not bound to instance or class and you can simply call that using class name.\n",
    "\n",
    "class Person(object):\n",
    "\n",
    "    def __init__(self, first_name, last_name):\n",
    "        self.first_name = first_name\n",
    "        self.last_name = last_name\n",
    "\n",
    "    @classmethod\n",
    "    def get_first_name(cls, first_name):\n",
    "        return cls(first_name, \"\")\n",
    "    \n",
    "    @staticmethod\n",
    "    def validate_name(name):\n",
    "        return len(name) <= 20\n",
    "    \n",
    "person3 = Person.validate_name(\"Pyladies\")\n",
    "print(person3)"
   ]
  },
  {
   "cell_type": "code",
   "execution_count": 8,
   "metadata": {},
   "outputs": [
    {
     "name": "stdout",
     "output_type": "stream",
     "text": [
      "Name: Rekha, Age: 25\n"
     ]
    }
   ],
   "source": [
    "from datetime import date\n",
    "\n",
    "class Person:\n",
    "    def __init__(self, name, age):\n",
    "        self.name = name\n",
    "        self.age = age\n",
    "\n",
    "    # a class method to create a Person object by birth year.\n",
    "    @classmethod\n",
    "    def fromBirthYear(cls, name, year):\n",
    "        return cls(name, date.today().year - year)\n",
    "\n",
    "    # a static method to check if a Person is adult or not.\n",
    "    @staticmethod\n",
    "    def isAdult(age):\n",
    "        return age > 18\n",
    "\n",
    "\n",
    "P1 = Person(\"Rekha\", 25)\n",
    "print(\"Name: {}, Age: {}\".format(P1.name, P1.age))"
   ]
  },
  {
   "cell_type": "code",
   "execution_count": 11,
   "metadata": {},
   "outputs": [
    {
     "name": "stdout",
     "output_type": "stream",
     "text": [
      "Name: Hema, Age: 26\n"
     ]
    }
   ],
   "source": [
    "P2 = Person.fromBirthYear(\"Hema\", 1993)\n",
    "print(\"Name: {}, Age: {}\".format(P2.name, P2.age))"
   ]
  },
  {
   "cell_type": "code",
   "execution_count": 12,
   "metadata": {},
   "outputs": [
    {
     "data": {
      "text/plain": [
       "True"
      ]
     },
     "execution_count": 12,
     "metadata": {},
     "output_type": "execute_result"
    }
   ],
   "source": [
    "P2.isAdult(P2.age)"
   ]
  },
  {
   "cell_type": "code",
   "execution_count": 13,
   "metadata": {},
   "outputs": [
    {
     "data": {
      "text/plain": [
       "True"
      ]
     },
     "execution_count": 13,
     "metadata": {},
     "output_type": "execute_result"
    }
   ],
   "source": [
    "P1.isAdult(P1.age)"
   ]
  },
  {
   "cell_type": "code",
   "execution_count": null,
   "metadata": {},
   "outputs": [],
   "source": []
  }
 ],
 "metadata": {
  "kernelspec": {
   "display_name": "Python 3",
   "language": "python",
   "name": "python3"
  },
  "language_info": {
   "codemirror_mode": {
    "name": "ipython",
    "version": 3
   },
   "file_extension": ".py",
   "mimetype": "text/x-python",
   "name": "python",
   "nbconvert_exporter": "python",
   "pygments_lexer": "ipython3",
   "version": "3.6.7"
  }
 },
 "nbformat": 4,
 "nbformat_minor": 2
}
